{
 "cells": [
  {
   "cell_type": "code",
   "execution_count": 19,
   "metadata": {},
   "outputs": [
    {
     "name": "stdout",
     "output_type": "stream",
     "text": [
      "You deposited 1 ETH. You are entitled to 0.6 coins\n",
      "You deposited 100 ETH. You are entitled to 100 coins\n",
      "User A is entitled to:  0.0\n",
      "User B is entitled to:  0.0\n",
      "User A is entitled to:  0.06\n",
      "User B is entitled to:  10.0\n",
      "User A is entitled to:  0.12\n",
      "User B is entitled to:  20.0\n",
      "User A is entitled to:  0.18\n",
      "User B is entitled to:  30.0\n",
      "User A is entitled to:  0.24\n",
      "User B is entitled to:  40.0\n",
      "User A is entitled to:  0.3\n",
      "User B is entitled to:  50.0\n",
      "You are going to redeem 0.3 coins! Still can redeem 0.3 coins\n",
      "You are going to redeem 50.0 coins! Still can redeem 50.0 coins\n",
      "User A is entitled to:  0.06\n",
      "User B is entitled to:  10.0\n",
      "User A is entitled to:  0.15\n",
      "User B is entitled to:  25.0\n",
      "User A is entitled to:  0.21\n",
      "User B is entitled to:  35.0\n",
      "User A is entitled to:  0.27\n",
      "User B is entitled to:  45.0\n",
      "User A is entitled to:  0.3\n",
      "User B is entitled to:  50.0\n",
      "You deposited 1 ETH. You are entitled to 0.8999999999999999 coins\n",
      "You deposited 10 ETH. You are entitled to 60.0 coins\n",
      "User A is entitled to:  0.09\n",
      "User B is entitled to:  6.0\n",
      "User A is entitled to:  0.18\n",
      "User B is entitled to:  12.0\n",
      "User A is entitled to:  0.27\n",
      "User B is entitled to:  18.0\n",
      "User A is entitled to:  0.36\n",
      "User B is entitled to:  24.0\n",
      "User A is entitled to:  0.44999999999999996\n",
      "User B is entitled to:  30.0\n",
      "User A is entitled to:  0.54\n",
      "User B is entitled to:  36.0\n",
      "User A is entitled to:  0.63\n",
      "User B is entitled to:  42.0\n",
      "User A is entitled to:  0.72\n",
      "User B is entitled to:  48.0\n",
      "User A is entitled to:  0.8099999999999999\n",
      "User B is entitled to:  54.0\n"
     ]
    }
   ],
   "source": [
    "import time\n",
    "import random\n",
    "\n",
    "\n",
    "class RewardInfo:\n",
    "    #in solidity this will be a struct. aka sol -> struct\n",
    "    def __init__(self):\n",
    "        self.amt = 0\n",
    "        self.redeemable = 0\n",
    "        self.staking_time = 0\n",
    "        self.reward_per_share = 0\n",
    "\n",
    "class RewardLocker:\n",
    "    #sol -> user_addr is _msgSender()\n",
    "    \n",
    "    RELEASE_RATE = 0.05  #5% per sec\n",
    "    \n",
    "    def __init__(self):\n",
    "        #sol -> mapping\n",
    "        self.mapping = dict()  #map address to reward info struct\n",
    "\n",
    "    def deposit(self,user_addr,amt,prop):\n",
    "        if user_addr not in self.mapping:  #sol -> need a seperate doesExists mapping\n",
    "            self.mapping[user_addr] = RewardInfo()\n",
    "        self.mapping[user_addr].staking_time = int(time.time())\n",
    "        self.mapping[user_addr].amt += amt\n",
    "        self.mapping[user_addr].redeemable += self.calculate_reward(amt,prop)     #sol -> need to get the address of the deployed LP address. WIP\n",
    "        self.mapping[user_addr].reward_per_share = self.mapping[user_addr].redeemable * self.RELEASE_RATE\n",
    "        print(f\"You deposited {amt} ETH. You are entitled to {self.mapping[user_addr].redeemable} coins\")\n",
    "        \n",
    "    def calculate_current_redeemable(self,user_addr):                #sol -> write in ternary? \n",
    "        return min((int(time.time())-self.mapping[user_addr].staking_time)*self.mapping[user_addr].reward_per_share,self.mapping[user_addr].redeemable)\n",
    "    \n",
    "    def redeem(self,user_addr):                                     #sol -> this should be fine i suppose\n",
    "        redeemable = self.calculate_current_redeemable(user_addr)\n",
    "        \n",
    "        self.mapping[user_addr].redeemable -= redeemable\n",
    "        self.mapping[user_addr].staking_time = int(time.time())\n",
    "        print(f\"You are going to redeem {redeemable} coins! Still can redeem {self.mapping[user_addr].redeemable} coins\")\n",
    "        \n",
    "    def calculate_reward(self,stake_amount,proportion):   #view function \n",
    "        reward_rate = get_reward_rate(proportion) \n",
    "        return stake_amount*reward_rate \n",
    "\n",
    "def get_reward_rate(proportion):  \n",
    "    #this function will belong to the LP not the RewardLocker\n",
    "    #3 tier reward --> if contribute < 20%, \n",
    "    if proportion < 20:\n",
    "        return 0.6\n",
    "    elif proportion < 50:\n",
    "        return 0.7\n",
    "    else:\n",
    "        return 1\n",
    "\n",
    "class User:\n",
    "    def __init__(self):\n",
    "        self.id = random.randint(1,100)\n",
    "\n",
    "    \n",
    "#### Driver code\n",
    "\n",
    "userA = User()\n",
    "userB = User()\n",
    "r = RewardLocker()\n",
    "## assuming liquidity pool has 10 eth now\n",
    "pool = 10\n",
    "\n",
    "r.deposit(userA.id,1,1/pool*100)\n",
    "r.deposit(userB.id,100,100/pool*100)\n",
    "\n",
    "for i in range(20):\n",
    "    print(\"User A is entitled to: \",r.calculate_current_redeemable(userA.id))\n",
    "    print(\"User B is entitled to: \",r.calculate_current_redeemable(userB.id))\n",
    "    if i == 5:\n",
    "        r.redeem(userA.id)\n",
    "        r.redeem(userB.id)\n",
    "    if i == 10:\n",
    "        r.deposit(userA.id,1,1/pool*100)\n",
    "        r.deposit(userB.id,10,10/pool*100)\n",
    "    time.sleep(2)"
   ]
  },
  {
   "cell_type": "code",
   "execution_count": 14,
   "metadata": {},
   "outputs": [
    {
     "name": "stdout",
     "output_type": "stream",
     "text": [
      "1.5\n",
      "1.5\n",
      "1.5\n",
      "1.5\n",
      "1.5\n",
      "1.5\n",
      "You are going to redeem 1.5 coins! Still can redeem 0.0 coins\n",
      "0.0\n",
      "0.0\n",
      "0.0\n",
      "0.0\n",
      "0.0\n",
      "0.0\n",
      "0.0\n",
      "0.0\n",
      "0.0\n",
      "0.0\n",
      "0.0\n",
      "0.0\n",
      "0.0\n",
      "0.0\n"
     ]
    }
   ],
   "source": [
    "for i in range(20):\n",
    "    print(r.calculate_current_redeemable(userA.id))\n",
    "    if i == 5:\n",
    "        r.redeem(userA.id)\n",
    "    time.sleep(2)"
   ]
  },
  {
   "cell_type": "code",
   "execution_count": 2,
   "metadata": {},
   "outputs": [
    {
     "data": {
      "text/plain": [
       "1636272731.4557712"
      ]
     },
     "execution_count": 2,
     "metadata": {},
     "output_type": "execute_result"
    }
   ],
   "source": [
    "time.time()"
   ]
  },
  {
   "cell_type": "code",
   "execution_count": 3,
   "metadata": {},
   "outputs": [
    {
     "data": {
      "text/plain": [
       "1636272734.9851322"
      ]
     },
     "execution_count": 3,
     "metadata": {},
     "output_type": "execute_result"
    }
   ],
   "source": [
    "time.time()\n"
   ]
  },
  {
   "cell_type": "code",
   "execution_count": null,
   "metadata": {},
   "outputs": [],
   "source": []
  }
 ],
 "metadata": {
  "kernelspec": {
   "display_name": "base",
   "language": "python",
   "name": "base"
  },
  "language_info": {
   "codemirror_mode": {
    "name": "ipython",
    "version": 3
   },
   "file_extension": ".py",
   "mimetype": "text/x-python",
   "name": "python",
   "nbconvert_exporter": "python",
   "pygments_lexer": "ipython3",
   "version": "3.7.6"
  }
 },
 "nbformat": 4,
 "nbformat_minor": 4
}
