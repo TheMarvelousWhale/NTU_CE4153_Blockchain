{
 "cells": [
  {
   "cell_type": "code",
   "execution_count": 5,
   "metadata": {},
   "outputs": [
    {
     "ename": "NameError",
     "evalue": "name 'calculate_reward' is not defined",
     "output_type": "error",
     "traceback": [
      "\u001b[1;31m---------------------------------------------------------------------------\u001b[0m",
      "\u001b[1;31mNameError\u001b[0m                                 Traceback (most recent call last)",
      "\u001b[1;32m<ipython-input-5-eede3441ba06>\u001b[0m in \u001b[0;36m<module>\u001b[1;34m\u001b[0m\n\u001b[0;32m     56\u001b[0m \u001b[0mr\u001b[0m \u001b[1;33m=\u001b[0m \u001b[0mRewardLocker\u001b[0m\u001b[1;33m(\u001b[0m\u001b[1;33m)\u001b[0m\u001b[1;33m\u001b[0m\u001b[1;33m\u001b[0m\u001b[0m\n\u001b[0;32m     57\u001b[0m \u001b[1;33m\u001b[0m\u001b[0m\n\u001b[1;32m---> 58\u001b[1;33m \u001b[0mr\u001b[0m\u001b[1;33m.\u001b[0m\u001b[0mdeposit\u001b[0m\u001b[1;33m(\u001b[0m\u001b[0muserA\u001b[0m\u001b[1;33m.\u001b[0m\u001b[0mid\u001b[0m\u001b[1;33m,\u001b[0m\u001b[1;36m1\u001b[0m\u001b[1;33m)\u001b[0m\u001b[1;33m\u001b[0m\u001b[1;33m\u001b[0m\u001b[0m\n\u001b[0m\u001b[0;32m     59\u001b[0m \u001b[1;33m\u001b[0m\u001b[0m\n\u001b[0;32m     60\u001b[0m \u001b[1;33m\u001b[0m\u001b[0m\n",
      "\u001b[1;32m<ipython-input-5-eede3441ba06>\u001b[0m in \u001b[0;36mdeposit\u001b[1;34m(self, user_addr, amt)\u001b[0m\n\u001b[0;32m     26\u001b[0m             \u001b[0mself\u001b[0m\u001b[1;33m.\u001b[0m\u001b[0mmapping\u001b[0m\u001b[1;33m[\u001b[0m\u001b[0muser_addr\u001b[0m\u001b[1;33m]\u001b[0m\u001b[1;33m.\u001b[0m\u001b[0mstaking_time\u001b[0m \u001b[1;33m=\u001b[0m \u001b[0mint\u001b[0m\u001b[1;33m(\u001b[0m\u001b[0mtime\u001b[0m\u001b[1;33m.\u001b[0m\u001b[0mtime\u001b[0m\u001b[1;33m(\u001b[0m\u001b[1;33m)\u001b[0m\u001b[1;33m)\u001b[0m\u001b[1;33m\u001b[0m\u001b[1;33m\u001b[0m\u001b[0m\n\u001b[0;32m     27\u001b[0m         \u001b[0mself\u001b[0m\u001b[1;33m.\u001b[0m\u001b[0mmapping\u001b[0m\u001b[1;33m[\u001b[0m\u001b[0muser_addr\u001b[0m\u001b[1;33m]\u001b[0m\u001b[1;33m.\u001b[0m\u001b[0mamt\u001b[0m \u001b[1;33m+=\u001b[0m \u001b[0mamt\u001b[0m\u001b[1;33m\u001b[0m\u001b[1;33m\u001b[0m\u001b[0m\n\u001b[1;32m---> 28\u001b[1;33m         \u001b[0mself\u001b[0m\u001b[1;33m.\u001b[0m\u001b[0mmapping\u001b[0m\u001b[1;33m[\u001b[0m\u001b[0muser_addr\u001b[0m\u001b[1;33m]\u001b[0m\u001b[1;33m.\u001b[0m\u001b[0mredeemable\u001b[0m \u001b[1;33m+=\u001b[0m \u001b[0mcalculate_reward\u001b[0m\u001b[1;33m(\u001b[0m\u001b[0mamt\u001b[0m\u001b[1;33m)\u001b[0m     \u001b[1;31m#sol -> need to get the address of the deployed LP address. WIP\u001b[0m\u001b[1;33m\u001b[0m\u001b[1;33m\u001b[0m\u001b[0m\n\u001b[0m\u001b[0;32m     29\u001b[0m         \u001b[0mprint\u001b[0m\u001b[1;33m(\u001b[0m\u001b[1;34mf\"You deposited {amt} ETH. You are entitled to {self.mapping[user_addr].redeemable} coins\"\u001b[0m\u001b[1;33m)\u001b[0m\u001b[1;33m\u001b[0m\u001b[1;33m\u001b[0m\u001b[0m\n\u001b[0;32m     30\u001b[0m \u001b[1;33m\u001b[0m\u001b[0m\n",
      "\u001b[1;31mNameError\u001b[0m: name 'calculate_reward' is not defined"
     ]
    }
   ],
   "source": [
    "import time\n",
    "import random\n",
    "\n",
    "\n",
    "class RewardInfo:\n",
    "    #in solidity this will be a struct. aka sol -> struct\n",
    "    def __init__(self):\n",
    "        self.amt = 0\n",
    "        self.redeemable = 0\n",
    "        self.staking_time = 0\n",
    "\n",
    "class RewardLocker:\n",
    "    #sol -> user_addr is _msgSender()\n",
    "    RELEASE_RATE = 0.05  #5% per sec\n",
    "    def __init__(self):\n",
    "        #sol -> mapping\n",
    "        self.mapping = dict()  #map address to reward info struct\n",
    "\n",
    "    def deposit(self,user_addr,amt):\n",
    "        if user_addr not in self.mapping:  #sol -> need a seperate doesExists mapping\n",
    "            self.mapping[user_addr] = RewardInfo()\n",
    "            self.mapping[user_addr].staking_time = int(time.time())\n",
    "        self.mapping[user_addr].amt += amt\n",
    "        self.mapping[user_addr].redeemable += self.calculate_reward(amt)     #sol -> need to get the address of the deployed LP address. WIP\n",
    "        print(f\"You deposited {amt} ETH. You are entitled to {self.mapping[user_addr].redeemable} coins\")\n",
    "        \n",
    "    def calculate_current_redeemable(self,user_addr):                #sol -> write in ternary? \n",
    "        return min((time.time()-self.mapping[user_addr].staking_time)*RELEASE_RATE*self.redeemable,self.mapping[user_addr].redeemable)\n",
    "    \n",
    "    def redeem(self,user_addr):                                     #sol -> this should be fine i suppose\n",
    "        redeemable = self.calculate_current_redeemable(user_addr)\n",
    "        \n",
    "        self.mapping[user_addr].redeemable -= redeemable\n",
    "        self.mapping[user_addr].staking_time = int(time.time())\n",
    "        print(f\"You are going to redeem {redeemable} coins! Still can redeem {self.mapping[user_addr].redeemable} coins\")\n",
    "        \n",
    "        \n",
    "    def calculate_reward(self,stake_amount):   #view function \n",
    "        reward_rate = get_reward_rate() \n",
    "        return stake_amount*rate \n",
    "\n",
    "def get_reward_rate():\n",
    "    #this function will belong to the LP not the RewardLocker\n",
    "    return 1   #1eth staked -- 1 coins\n",
    "\n",
    "class User:\n",
    "    def __init__(self):\n",
    "        self.id = random.randint(1,100)\n",
    "\n",
    "    \n",
    "#### Driver code\n",
    "\n",
    "userA = User()\n",
    "\n",
    "r = RewardLocker()\n",
    "\n",
    "r.deposit(userA.id,1)\n",
    "\n",
    "\n",
    "for i in range(20):\n",
    "    print(r.calculate_current_redeemable(userA.id))\n",
    "    if i == 5:\n",
    "        r.redeem(userA.id)\n",
    "    time.sleep(2)"
   ]
  },
  {
   "cell_type": "code",
   "execution_count": 1,
   "metadata": {},
   "outputs": [],
   "source": []
  },
  {
   "cell_type": "code",
   "execution_count": 2,
   "metadata": {},
   "outputs": [
    {
     "data": {
      "text/plain": [
       "1636272731.4557712"
      ]
     },
     "execution_count": 2,
     "metadata": {},
     "output_type": "execute_result"
    }
   ],
   "source": [
    "time.time()"
   ]
  },
  {
   "cell_type": "code",
   "execution_count": 3,
   "metadata": {},
   "outputs": [
    {
     "data": {
      "text/plain": [
       "1636272734.9851322"
      ]
     },
     "execution_count": 3,
     "metadata": {},
     "output_type": "execute_result"
    }
   ],
   "source": [
    "time.time()\n"
   ]
  },
  {
   "cell_type": "code",
   "execution_count": null,
   "metadata": {},
   "outputs": [],
   "source": []
  }
 ],
 "metadata": {
  "kernelspec": {
   "display_name": "base",
   "language": "python",
   "name": "base"
  },
  "language_info": {
   "codemirror_mode": {
    "name": "ipython",
    "version": 3
   },
   "file_extension": ".py",
   "mimetype": "text/x-python",
   "name": "python",
   "nbconvert_exporter": "python",
   "pygments_lexer": "ipython3",
   "version": "3.7.6"
  }
 },
 "nbformat": 4,
 "nbformat_minor": 4
}
